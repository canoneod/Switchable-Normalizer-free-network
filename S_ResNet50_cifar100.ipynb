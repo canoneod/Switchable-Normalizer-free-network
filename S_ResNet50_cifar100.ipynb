{
 "cells": [
  {
   "cell_type": "code",
   "execution_count": null,
   "id": "UoEGjSdNj_SU",
   "metadata": {
    "colab": {
     "base_uri": "https://localhost:8080/"
    },
    "id": "UoEGjSdNj_SU",
    "outputId": "31ca9ab3-2504-49c3-89f6-395827bff215"
   },
   "outputs": [],
   "source": [
    "from models.SResNet50 import *\n",
    "from utils.utils import *\n",
    "from utils.train import *"
   ]
  },
  {
   "cell_type": "code",
   "execution_count": null,
   "id": "c596b460",
   "metadata": {},
   "outputs": [],
   "source": [
    "import torch.optim as optim\n",
    "import torch.nn as nn"
   ]
  },
  {
   "cell_type": "code",
   "execution_count": null,
   "id": "QmLr6rEjkfIa",
   "metadata": {
    "id": "QmLr6rEjkfIa",
    "scrolled": true
   },
   "outputs": [],
   "source": [
    "device = 'cuda'\n",
    "net = Switchable_ResNet50(100)\n",
    "net = net.to(device)\n",
    "cudnn.benchmark = True\n",
    "\n",
    "file_name = 'switchable_resnet50_cifar100.pt'\n",
    "path = 'C://Users/Kim/Switchable-Normalizer-free-network/trained/'\n",
    "\n",
    "learning_rate = 0.02\n",
    "criterion = nn.CrossEntropyLoss(reduction='none')\n",
    "optimizer = optim.SGD(net.parameters(), lr=learning_rate, momentum=0.9, weight_decay=0.001, nesterov=True)\n",
    "lr_scheduler = optim.lr_scheduler.MultiStepLR(optimizer, milestones=[30, 60, 90], gamma=0.1)\n",
    "\n",
    "num_parameters = 0\n",
    "for parameter in net.layer1[0].parameters(): # single block parameter count\n",
    "  num_parameters += torch.prod(torch.tensor(parameter.shape))"
   ]
  },
  {
   "cell_type": "code",
   "execution_count": null,
   "id": "o7J9DU-_m_4L",
   "metadata": {
    "id": "o7J9DU-_m_4L"
   },
   "outputs": [],
   "source": [
    "# get make train/test loaders\n",
    "transform_train = transforms.Compose([\n",
    "    transforms.RandomCrop(32, padding=4),\n",
    "    transforms.RandomHorizontalFlip(),\n",
    "    transforms.ToTensor(),\n",
    "])\n",
    "\n",
    "transform_test = transforms.Compose([\n",
    "    transforms.ToTensor(),\n",
    "])\n",
    "\n",
    "train_dataset = torchvision.datasets.CIFAR100(root='./data', train=True, download=True, transform=transform_train)\n",
    "test_dataset = torchvision.datasets.CIFAR100(root='./data', train=False, download=True, transform=transform_test)\n",
    "\n",
    "train_loader = torch.utils.data.DataLoader(train_dataset, batch_size=256, shuffle=True, num_workers=4)\n",
    "test_loader = torch.utils.data.DataLoader(test_dataset, batch_size=256, shuffle=False, num_workers=4)"
   ]
  },
  {
   "cell_type": "code",
   "execution_count": null,
   "id": "KGaoFjzzmBCP",
   "metadata": {
    "id": "KGaoFjzzmBCP"
   },
   "outputs": [],
   "source": [
    "for epoch in range(200):\n",
    "  train(epoch, net, params, train_loader, device, optimizer, criterion)\n",
    "  test(epoch, net, params, test_loader, device, optimizer, criterion, path, file_name)\n",
    "  lr_scheduler.step()"
   ]
  },
  {
   "cell_type": "code",
   "execution_count": null,
   "id": "CGe_Am3gnSf0",
   "metadata": {
    "id": "CGe_Am3gnSf0"
   },
   "outputs": [],
   "source": [
    "writeToJson('C://Users/Kim/Switchable-Normalizer-free-network/stats/',params,'switchable_resnet_cifar100_stats.json' )"
   ]
  }
 ],
 "metadata": {
  "colab": {
   "name": "Untitled.ipynb",
   "provenance": []
  },
  "kernelspec": {
   "display_name": "Python 3 (ipykernel)",
   "language": "python",
   "name": "python3"
  },
  "language_info": {
   "codemirror_mode": {
    "name": "ipython",
    "version": 3
   },
   "file_extension": ".py",
   "mimetype": "text/x-python",
   "name": "python",
   "nbconvert_exporter": "python",
   "pygments_lexer": "ipython3",
   "version": "3.7.11"
  }
 },
 "nbformat": 4,
 "nbformat_minor": 5
}
