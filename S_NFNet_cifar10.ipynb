{
 "cells": [
  {
   "cell_type": "code",
   "execution_count": null,
   "source": [
    "from models.SNFnet import *\r\n",
    "from utils.utils import *\r\n",
    "from utils.train import *"
   ],
   "outputs": [],
   "metadata": {
    "colab": {
     "base_uri": "https://localhost:8080/"
    },
    "id": "UoEGjSdNj_SU",
    "outputId": "31ca9ab3-2504-49c3-89f6-395827bff215"
   }
  },
  {
   "cell_type": "code",
   "execution_count": null,
   "source": [
    "import torch.optim as optim\r\n",
    "import torch.nn as nn"
   ],
   "outputs": [],
   "metadata": {}
  },
  {
   "cell_type": "code",
   "execution_count": null,
   "source": [
    "device = 'cuda'\r\n",
    "net = NF_Resnet(activation= 'relu', num_classes=10)\r\n",
    "net = net.to(device)\r\n",
    "cudnn.benchmark = True\r\n",
    "\r\n",
    "file_name = 'S_NFnet_cifar10.pt'\r\n",
    "path = 'C://Users/Kim/Switchable-Normalizer-free-network/trained/'\r\n",
    "\r\n",
    "learning_rate = 0.01\r\n",
    "criterion = nn.CrossEntropyLoss(reduction='none')\r\n",
    "optimizer = optim.SGD(net.parameters(), lr=learning_rate, momentum=0.9, weight_decay=0.0005, nesterov=True)\r\n",
    "lr_scheduler = optim.lr_scheduler.MultiStepLR(optimizer, milestones=[30, 60, 90], gamma=0.5)\r\n",
    "\r\n",
    "num_parameters = 0\r\n",
    "for parameter in net.layer1[0].parameters(): # single block parameter count\r\n",
    "  num_parameters += torch.prod(torch.tensor(parameter.shape))"
   ],
   "outputs": [],
   "metadata": {
    "id": "QmLr6rEjkfIa",
    "scrolled": true
   }
  },
  {
   "cell_type": "code",
   "execution_count": null,
   "source": [
    "transform_train = transforms.Compose([\r\n",
    "    transforms.RandomCrop(32, padding=4),\r\n",
    "    transforms.RandomHorizontalFlip(),\r\n",
    "    transforms.ToTensor(),\r\n",
    "])\r\n",
    "\r\n",
    "transform_test = transforms.Compose([\r\n",
    "    transforms.ToTensor(),\r\n",
    "])\r\n",
    "\r\n",
    "train_dataset = torchvision.datasets.CIFAR10(root='./data', train=True, download=True, transform=transform_train)\r\n",
    "test_dataset = torchvision.datasets.CIFAR10(root='./data', train=False, download=True, transform=transform_test)\r\n",
    "\r\n",
    "train_loader = torch.utils.data.DataLoader(train_dataset, batch_size=256, shuffle=True, num_workers=4)\r\n",
    "test_loader = torch.utils.data.DataLoader(test_dataset, batch_size=256, shuffle=False, num_workers=4)"
   ],
   "outputs": [],
   "metadata": {
    "id": "o7J9DU-_m_4L"
   }
  },
  {
   "cell_type": "code",
   "execution_count": null,
   "source": [
    "for epoch in range(200):\r\n",
    "  train(epoch, net, params, train_loader, device, optimizer, criterion)\r\n",
    "  test(epoch, net, params, test_loader, device, optimizer, criterion, path, file_name)\r\n",
    "  lr_scheduler.step()"
   ],
   "outputs": [],
   "metadata": {
    "id": "KGaoFjzzmBCP"
   }
  },
  {
   "cell_type": "code",
   "execution_count": null,
   "source": [
    "writeToJson('C://Users/Kim/Switchable-Normalizer-free-network/stats/',params,'S_NFnet_cifar10_stats.json' )"
   ],
   "outputs": [],
   "metadata": {
    "id": "CGe_Am3gnSf0"
   }
  }
 ],
 "metadata": {
  "colab": {
   "name": "Untitled.ipynb",
   "provenance": []
  },
  "kernelspec": {
   "display_name": "Python 3 (ipykernel)",
   "language": "python",
   "name": "python3"
  },
  "language_info": {
   "codemirror_mode": {
    "name": "ipython",
    "version": 3
   },
   "file_extension": ".py",
   "mimetype": "text/x-python",
   "name": "python",
   "nbconvert_exporter": "python",
   "pygments_lexer": "ipython3",
   "version": "3.7.11"
  }
 },
 "nbformat": 4,
 "nbformat_minor": 5
}